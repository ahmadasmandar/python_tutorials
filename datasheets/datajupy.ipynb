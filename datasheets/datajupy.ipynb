{
 "nbformat": 4,
 "nbformat_minor": 2,
 "metadata": {
  "language_info": {
   "name": "python",
   "codemirror_mode": {
    "name": "ipython",
    "version": 3
   },
   "version": "3.8.2-final"
  },
  "orig_nbformat": 2,
  "file_extension": ".py",
  "mimetype": "text/x-python",
  "name": "python",
  "npconvert_exporter": "python",
  "pygments_lexer": "ipython3",
  "version": 3,
  "kernelspec": {
   "name": "python38232bit3007ca3233d44c408ba5a841cdd09166",
   "display_name": "Python 3.8.2 32-bit"
  }
 },
 "cells": [
  {
   "cell_type": "code",
   "execution_count": 87,
   "metadata": {},
   "outputs": [],
   "source": [
    "import requests as rs\n",
    "from bs4 import BeautifulSoup as bs\n",
    ""
   ]
  },
  {
   "cell_type": "code",
   "execution_count": 88,
   "metadata": {},
   "outputs": [
    {
     "output_type": "execute_result",
     "data": {
      "text/plain": "<Response [200]>"
     },
     "metadata": {},
     "execution_count": 88
    }
   ],
   "source": [
    "search_url=\"https://www.alldatasheet.com/view.jsp?Searchword=\"\n",
    "key_word=input(\"please enter Part No.: \")\n",
    "full_url=search_url+key_word\n",
    "answer=rs.get(full_url)\n",
    "answer"
   ]
  },
  {
   "cell_type": "code",
   "execution_count": 89,
   "metadata": {},
   "outputs": [],
   "source": [
    "soup=bs(answer.content, \"html.parser\")"
   ]
  },
  {
   "cell_type": "markdown",
   "metadata": {},
   "source": [
    "<h1> Get all Pdf links in the Page"
   ]
  },
  {
   "cell_type": "code",
   "execution_count": 90,
   "metadata": {},
   "outputs": [],
   "source": [
    "links = soup.find_all('a')\n",
    "#  <a href=\"//www.alldatasheet.com/datasheet-pdf/pdf/254072/ETC2/5550-3.html\" onclick=\"myColorClick(-6)\" target=\"_blank\">\n",
    "clean_links = [l for l in links if l.get('href') != None]\n",
    "len(clean_links)\n",
    "# for x in clean_links:\n",
    "#     if (x['href'].find(\"datasheet-pdf/pdf\")> -1):\n",
    "#         print (x.parent.parent)\n",
    "pdfs= [db['href'] for db in clean_links if (db['href'].find(\"datasheet-pdf/pdf\")> -1)]\n",
    "# len(pdfs)\n",
    ""
   ]
  },
  {
   "cell_type": "markdown",
   "metadata": {},
   "source": [
    "<h1>Scrap Companies Names"
   ]
  },
  {
   "cell_type": "code",
   "execution_count": 91,
   "metadata": {},
   "outputs": [
    {
     "output_type": "execute_result",
     "data": {
      "text/plain": "['Zetex Semiconductors',\n 'Semtech Corporation',\n 'Kemet Corporation',\n 'Laird Tech Smart Technology',\n 'Molex Electronics Ltd.',\n 'PHOENIX CONTACT',\n 'Littelfuse',\n 'Tyco Electronics',\n 'FCI connector',\n 'Systemsensor advanced ideas.',\n 'Molex Electronics Ltd.',\n 'Gilway Technical Lamp',\n 'List of Unclassifed Manufacturers',\n 'Systemsensor advanced ideas.',\n 'Molex Electronics Ltd.']"
     },
     "metadata": {},
     "execution_count": 91
    }
   ],
   "source": [
    "logos= soup.find_all(\"img\", class_=\"abclogoyo\")\n",
    "companies= [com['alt'] for com in logos]\n",
    "companies"
   ]
  },
  {
   "cell_type": "markdown",
   "metadata": {},
   "source": [
    "# correct duplicated links"
   ]
  },
  {
   "cell_type": "code",
   "execution_count": 92,
   "metadata": {},
   "outputs": [
    {
     "output_type": "stream",
     "name": "stdout",
     "text": "//www.alldatasheet.com/datasheet-pdf/pdf/182740/ZETEX/555.html\n//www.alldatasheet.com/datasheet-pdf/pdf/120354/SEMTECH/5550.html\n//www.alldatasheet.com/datasheet-pdf/pdf/468574/KEMET/5550.html\n//www.alldatasheet.com/datasheet-pdf/pdf/913364/LSTD/5555.html\n//www.alldatasheet.com/datasheet-pdf/pdf/462540/MOLEX2/5556.html\n//www.alldatasheet.com/datasheet-pdf/pdf/462542/MOLEX2/5558.html\n//www.alldatasheet.com/datasheet-pdf/pdf/1107099/PHOENIX/5558.html\n//www.alldatasheet.com/datasheet-pdf/pdf/1018789/LITTELFUSE/55505.html\n//www.alldatasheet.com/datasheet-pdf/pdf/532416/MACOM/55510.html\n//www.alldatasheet.com/datasheet-pdf/pdf/534308/FCI-CONNECTOR/55510.html\n//www.alldatasheet.com/datasheet-pdf/pdf/919498/SYSTEMSENSOR/5551B.html\n//www.alldatasheet.com/datasheet-pdf/pdf/919499/SYSTEMSENSOR/5551R.html\n//www.alldatasheet.com/datasheet-pdf/pdf/363418/MOLEX3/5556T.html\n//www.alldatasheet.com/datasheet-pdf/pdf/365124/MOLEX3/5558T.html\n//www.alldatasheet.com/datasheet-pdf/pdf/124537/GILWAY/555NM.html\n//www.alldatasheet.com/datasheet-pdf/pdf/254073/ETC2/5550-2.html\n//www.alldatasheet.com/datasheet-pdf/pdf/254072/ETC2/5550-3.html\n//www.alldatasheet.com/datasheet-pdf/pdf/919510/SYSTEMSENSOR/5551AB.html\n//www.alldatasheet.com/datasheet-pdf/pdf/919511/SYSTEMSENSOR/5551RA.html\n//www.alldatasheet.com/datasheet-pdf/pdf/364709/MOLEX3/5556T2.html\n"
    },
    {
     "output_type": "error",
     "ename": "IndexError",
     "evalue": "list index out of range",
     "traceback": [
      "\u001b[1;31m---------------------------------------------------------------------------\u001b[0m",
      "\u001b[1;31mIndexError\u001b[0m                                Traceback (most recent call last)",
      "\u001b[1;32m<ipython-input-92-cc8d4d20ef5e>\u001b[0m in \u001b[0;36m<module>\u001b[1;34m\u001b[0m\n\u001b[0;32m      1\u001b[0m \u001b[1;32mfor\u001b[0m \u001b[0mlink\u001b[0m \u001b[1;32min\u001b[0m \u001b[0mrange\u001b[0m\u001b[1;33m(\u001b[0m\u001b[0mlen\u001b[0m\u001b[1;33m(\u001b[0m\u001b[0mpdfs\u001b[0m\u001b[1;33m)\u001b[0m\u001b[1;33m)\u001b[0m\u001b[1;33m:\u001b[0m\u001b[1;33m\u001b[0m\u001b[1;33m\u001b[0m\u001b[0m\n\u001b[1;32m----> 2\u001b[1;33m     \u001b[1;32mif\u001b[0m \u001b[1;33m(\u001b[0m\u001b[0mpdfs\u001b[0m\u001b[1;33m[\u001b[0m\u001b[0mlink\u001b[0m\u001b[1;33m]\u001b[0m\u001b[1;33m==\u001b[0m\u001b[0mpdfs\u001b[0m\u001b[1;33m[\u001b[0m\u001b[0mlink\u001b[0m\u001b[1;33m+\u001b[0m\u001b[1;36m1\u001b[0m\u001b[1;33m]\u001b[0m\u001b[1;33m)\u001b[0m\u001b[1;33m:\u001b[0m\u001b[1;33m\u001b[0m\u001b[1;33m\u001b[0m\u001b[0m\n\u001b[0m\u001b[0;32m      3\u001b[0m         \u001b[0mprint\u001b[0m\u001b[1;33m(\u001b[0m\u001b[0mpdfs\u001b[0m\u001b[1;33m[\u001b[0m\u001b[0mlink\u001b[0m\u001b[1;33m+\u001b[0m\u001b[1;36m1\u001b[0m\u001b[1;33m]\u001b[0m\u001b[1;33m)\u001b[0m\u001b[1;33m\u001b[0m\u001b[1;33m\u001b[0m\u001b[0m\n",
      "\u001b[1;31mIndexError\u001b[0m: list index out of range"
     ]
    }
   ],
   "source": [
    "for link in range(len(pdfs)):\n",
    "    if (pdfs[link]==pdfs[link+1]):\n",
    "        print(pdfs[link+1])"
   ]
  },
  {
   "cell_type": "code",
   "execution_count": 93,
   "metadata": {},
   "outputs": [
    {
     "output_type": "execute_result",
     "data": {
      "text/plain": "40"
     },
     "metadata": {},
     "execution_count": 93
    }
   ],
   "source": [
    "len(pdfs)"
   ]
  },
  {
   "cell_type": "code",
   "execution_count": 150,
   "metadata": {},
   "outputs": [],
   "source": [
    "pdf_view=rs.get('https://pdf1.alldatasheet.com/datasheet-pdf/view/182740/ZETEX/555.html')"
   ]
  },
  {
   "cell_type": "code",
   "execution_count": 151,
   "metadata": {},
   "outputs": [
    {
     "output_type": "stream",
     "name": "stderr",
     "text": "Some characters could not be decoded, and were replaced with REPLACEMENT CHARACTER.\n"
    }
   ],
   "source": [
    "pdf_soup=bs(pdf_view.content,\"html.parser\")\n"
   ]
  },
  {
   "cell_type": "code",
   "execution_count": 142,
   "metadata": {},
   "outputs": [],
   "source": [
    "# len(pdf_soup.find_all(\"table\",width=\"95%\",cellpadding=0,align=\"center\"))\n",
    ""
   ]
  },
  {
   "cell_type": "code",
   "execution_count": 160,
   "metadata": {},
   "outputs": [
    {
     "output_type": "execute_result",
     "data": {
      "text/plain": "<body bgcolor=\"#ffffff\" leftmargin=\"0\" marginheight=\"0\" marginwidth=\"0\" rightmargin=\"0\" topmargin=\"0\">\n<!-- Google Tag Manager -->\n<noscript>\n<iframe height=\"0\" src=\"//www.googletagmanager.com/ns.html?id=GTM-BBS7G\" style=\"display:none;visibility:hidden\" width=\"0\">\n</iframe>\n</noscript>\n<script>\n(function(w,d,s,l,i){w[l]=w[l]||[];w[l].push({'gtm.start':\nnew Date().getTime(),event:'gtm.js'});var f=d.getElementsByTagName(s)[0],\nj=d.createElement(s),dl=l!='dataLayer'?'&l='+l:'';j.async=true;j.src=\n'//www.googletagmanager.com/gtm.js?id='+i+dl;f.parentNode.insertBefore(j,f);\n})(window,document,'script','dataLayer','GTM-BBS7G');\n</script>\n<!-- End Google Tag Manager -->\n<center id=\"pctop\">\n<table bgcolor=\"#336699\" border=\"0\" cellpadding=\"0\" cellspacing=\"0\" height=\"49\" style=\"table-layout:fixed\" width=\"100%\"><tr>\n<td align=\"center\" height=\"60\" width=\"300\"><a href=\"//www.alldatasheet.com\"><img align=\"middle\" border=\"0\" height=\"49\" src=\"//banner.alldatasheet.com/alldatasheet_logo/alldatasheet_title_s.gif\"/></a></td>\n<td align=\"center\" height=\"60\"><b><font color=\"#ffffff\" size=\"5\">Electronic Components Datasheet Search</font></b></td>\n<td align=\"right\" width=\"270\">\n<table cellpadding=\"0\" cellspacing=\"0\" style=\"height: 30px;margin:4px\">\n<tr>\n<td class=\"nv_top\" style=\"background-color:#215180;width:100px;\" valign=\"middle\"> <a href=\"javascript:showf()\"><img align=\"baseline\" border=\"0\" src=\"//banner.alldatasheet.com/alldatasheet_logo/com_fh.gif\"/>\n<font color=\"white\" size=\"2\">   English  ▼  </font></a></td>\n<td width=\"9\"></td></tr></table>\n<span id=\"idflag\" style=\"position:absolute;display:none;top:45px;z-index:1;\">\n<table bgcolor=\"#215180\" cellpadding=\"3\" cellspacing=\"3\"><tr>\n<td height=\"25\" width=\"120\"><font class=\"nv_top\" color=\"#ffffff\" size=\"2\"><a href=\"//www.alldatasheet.com/\"><img border=\"0\" height=\"12\" src=\"//banner.alldatasheet.com/alldatasheet_logo/com_fh.gif\"/> English</a></font></td></tr></table></span></td></tr></table></center></body>"
     },
     "metadata": {},
     "execution_count": 160
    }
   ],
   "source": [
    "pdf_soup.body"
   ]
  },
  {
   "cell_type": "code",
   "execution_count": null,
   "metadata": {},
   "outputs": [],
   "source": []
  }
 ]
}