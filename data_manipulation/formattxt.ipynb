{
 "metadata": {
  "language_info": {
   "codemirror_mode": {
    "name": "ipython",
    "version": 3
   },
   "file_extension": ".py",
   "mimetype": "text/x-python",
   "name": "python",
   "nbconvert_exporter": "python",
   "pygments_lexer": "ipython3",
   "version": "3.8.6-final"
  },
  "orig_nbformat": 2,
  "kernelspec": {
   "name": "python3",
   "display_name": "Python 3.8.6 64-bit",
   "metadata": {
    "interpreter": {
     "hash": "1baa965d5efe3ac65b79dfc60c0d706280b1da80fedb7760faf2759126c4f253"
    }
   }
  }
 },
 "nbformat": 4,
 "nbformat_minor": 2,
 "cells": [
  {
   "cell_type": "code",
   "execution_count": 1,
   "metadata": {},
   "outputs": [],
   "source": [
    "import pandas as pd\n",
    "import matplotlib.pyplot as plt\n",
    "import seaborn as sb "
   ]
  },
  {
   "cell_type": "code",
   "execution_count": 2,
   "metadata": {},
   "outputs": [
    {
     "output_type": "stream",
     "name": "stdout",
     "text": [
      "['fischer1_p33_6_hf8_fc6x_0_9km.txt', 'fischer1_p33_6_hf8_fc6x_4km.txt', 'fischer2_p33_6_hf8_fc6x.txt', 'fischer2_p33_6_hf8_fc6x_0_9km.txt', 'fischer2_p33_6_hf8_fc6x_4km.txt', 'fischer_p33_6_hf8_fc6x.txt', 'madshus_base7_ts_blue.txt', 'madshus_base7_ts_blue_ clockwise 45 turn.txt', 'madshus_base7_ts_blue_point.txt']\n"
     ]
    }
   ],
   "source": [
    "import os\n",
    "content=os.listdir('./newdata')\n",
    "# target=\"Tutsgalaxy.com\"\n",
    "# target2=\"FreeCourseWeb.com\"\n",
    "# print(len(target2))\n",
    "\n",
    "# for item in content:\n",
    "#     # delete the text files and the urls files to clean the library\n",
    "#     # print(item)\n",
    "#     if (item.find(\".txt\") > 0 or item.find(\".url\")> 0 ):\n",
    "#         print(item)\n",
    "#         os.remove(item)\n",
    "        \n",
    "#     # #rename the files and folders\n",
    "#     if (item.find(target2) >0):\n",
    "#         print(item)\n",
    "#         # print(item.find(target2))\n",
    "#         new_name=item[22:]\n",
    "#         # print(new_name)\n",
    "#         os.rename(item,new_name)\n",
    "#     elif (item.find(target) >0):\n",
    "#         new_name=item[19:]\n",
    "#         # print(new_name)\n",
    "#         os.rename(item,new_name)\n",
    "\n",
    "print(content)"
   ]
  },
  {
   "cell_type": "code",
   "execution_count": 77,
   "metadata": {},
   "outputs": [],
   "source": [
    "df=pd.read_csv(\"./newdata/fischer1_p33_6_hf8_fc6x_0_9km.txt\",names=['channal','min','max','x','y'],sep='\\s+',engine='python',encoding='iso-8859-1',skiprows=1)"
   ]
  },
  {
   "cell_type": "code",
   "execution_count": 78,
   "metadata": {},
   "outputs": [],
   "source": [
    "dx=df.drop(['x', 'y'], axis=1)"
   ]
  },
  {
   "cell_type": "code",
   "execution_count": 79,
   "metadata": {},
   "outputs": [
    {
     "output_type": "execute_result",
     "data": {
      "text/plain": [
       "  channal       min      max\n",
       "0   Ch0:;  4376072;  6191629\n",
       "1   Ch1:;  4379084;  5293305\n",
       "2   Ch2:;  4349189;  5417217\n",
       "3   Ch3:;  4343124;  5027139\n",
       "4   Ch4:;       80;    70904\n",
       "5   Ch5:;   249550;  2366242\n",
       "6   Ch6:;   278942;   569057\n",
       "7   Ch7:;   278545;   508521\n",
       "8   Ch8:;   278620;  1155724\n",
       "9     V:;      1440     None"
      ],
      "text/html": "<div>\n<style scoped>\n    .dataframe tbody tr th:only-of-type {\n        vertical-align: middle;\n    }\n\n    .dataframe tbody tr th {\n        vertical-align: top;\n    }\n\n    .dataframe thead th {\n        text-align: right;\n    }\n</style>\n<table border=\"1\" class=\"dataframe\">\n  <thead>\n    <tr style=\"text-align: right;\">\n      <th></th>\n      <th>channal</th>\n      <th>min</th>\n      <th>max</th>\n    </tr>\n  </thead>\n  <tbody>\n    <tr>\n      <th>0</th>\n      <td>Ch0:;</td>\n      <td>4376072;</td>\n      <td>6191629</td>\n    </tr>\n    <tr>\n      <th>1</th>\n      <td>Ch1:;</td>\n      <td>4379084;</td>\n      <td>5293305</td>\n    </tr>\n    <tr>\n      <th>2</th>\n      <td>Ch2:;</td>\n      <td>4349189;</td>\n      <td>5417217</td>\n    </tr>\n    <tr>\n      <th>3</th>\n      <td>Ch3:;</td>\n      <td>4343124;</td>\n      <td>5027139</td>\n    </tr>\n    <tr>\n      <th>4</th>\n      <td>Ch4:;</td>\n      <td>80;</td>\n      <td>70904</td>\n    </tr>\n    <tr>\n      <th>5</th>\n      <td>Ch5:;</td>\n      <td>249550;</td>\n      <td>2366242</td>\n    </tr>\n    <tr>\n      <th>6</th>\n      <td>Ch6:;</td>\n      <td>278942;</td>\n      <td>569057</td>\n    </tr>\n    <tr>\n      <th>7</th>\n      <td>Ch7:;</td>\n      <td>278545;</td>\n      <td>508521</td>\n    </tr>\n    <tr>\n      <th>8</th>\n      <td>Ch8:;</td>\n      <td>278620;</td>\n      <td>1155724</td>\n    </tr>\n    <tr>\n      <th>9</th>\n      <td>V:;</td>\n      <td>1440</td>\n      <td>None</td>\n    </tr>\n  </tbody>\n</table>\n</div>"
     },
     "metadata": {},
     "execution_count": 79
    }
   ],
   "source": [
    "dx.head(10)"
   ]
  },
  {
   "cell_type": "code",
   "execution_count": 80,
   "metadata": {},
   "outputs": [],
   "source": [
    " dx['min']= dx['min'].map(lambda x: x.lstrip('+-;').rstrip('aAbBcC;'))\n",
    " dx['channal']= dx['channal'].map(lambda x: x.lstrip(';').rstrip(';'))\n"
   ]
  },
  {
   "cell_type": "code",
   "execution_count": 81,
   "metadata": {},
   "outputs": [
    {
     "output_type": "execute_result",
     "data": {
      "text/plain": [
       "  channal      min      max\n",
       "0    Ch0:  4376072  6191629\n",
       "1    Ch1:  4379084  5293305\n",
       "2    Ch2:  4349189  5417217\n",
       "3    Ch3:  4343124  5027139\n",
       "4    Ch4:       80    70904"
      ],
      "text/html": "<div>\n<style scoped>\n    .dataframe tbody tr th:only-of-type {\n        vertical-align: middle;\n    }\n\n    .dataframe tbody tr th {\n        vertical-align: top;\n    }\n\n    .dataframe thead th {\n        text-align: right;\n    }\n</style>\n<table border=\"1\" class=\"dataframe\">\n  <thead>\n    <tr style=\"text-align: right;\">\n      <th></th>\n      <th>channal</th>\n      <th>min</th>\n      <th>max</th>\n    </tr>\n  </thead>\n  <tbody>\n    <tr>\n      <th>0</th>\n      <td>Ch0:</td>\n      <td>4376072</td>\n      <td>6191629</td>\n    </tr>\n    <tr>\n      <th>1</th>\n      <td>Ch1:</td>\n      <td>4379084</td>\n      <td>5293305</td>\n    </tr>\n    <tr>\n      <th>2</th>\n      <td>Ch2:</td>\n      <td>4349189</td>\n      <td>5417217</td>\n    </tr>\n    <tr>\n      <th>3</th>\n      <td>Ch3:</td>\n      <td>4343124</td>\n      <td>5027139</td>\n    </tr>\n    <tr>\n      <th>4</th>\n      <td>Ch4:</td>\n      <td>80</td>\n      <td>70904</td>\n    </tr>\n  </tbody>\n</table>\n</div>"
     },
     "metadata": {},
     "execution_count": 81
    }
   ],
   "source": [
    "dx.head()"
   ]
  },
  {
   "cell_type": "code",
   "execution_count": 83,
   "metadata": {},
   "outputs": [],
   "source": [
    "#dx=dx.drop(100)\n",
    "dx['min']=pd.to_numeric(dx['min'])\n",
    "dx['max']=pd.to_numeric(dx['max'])"
   ]
  },
  {
   "cell_type": "code",
   "execution_count": 85,
   "metadata": {},
   "outputs": [
    {
     "output_type": "execute_result",
     "data": {
      "text/plain": [
       "  channal      min        max\n",
       "0    Ch0:  4376072  6191629.0\n",
       "1    Ch1:  4379084  5293305.0\n",
       "2    Ch2:  4349189  5417217.0\n",
       "3    Ch3:  4343124  5027139.0\n",
       "4    Ch4:       80    70904.0"
      ],
      "text/html": "<div>\n<style scoped>\n    .dataframe tbody tr th:only-of-type {\n        vertical-align: middle;\n    }\n\n    .dataframe tbody tr th {\n        vertical-align: top;\n    }\n\n    .dataframe thead th {\n        text-align: right;\n    }\n</style>\n<table border=\"1\" class=\"dataframe\">\n  <thead>\n    <tr style=\"text-align: right;\">\n      <th></th>\n      <th>channal</th>\n      <th>min</th>\n      <th>max</th>\n    </tr>\n  </thead>\n  <tbody>\n    <tr>\n      <th>0</th>\n      <td>Ch0:</td>\n      <td>4376072</td>\n      <td>6191629.0</td>\n    </tr>\n    <tr>\n      <th>1</th>\n      <td>Ch1:</td>\n      <td>4379084</td>\n      <td>5293305.0</td>\n    </tr>\n    <tr>\n      <th>2</th>\n      <td>Ch2:</td>\n      <td>4349189</td>\n      <td>5417217.0</td>\n    </tr>\n    <tr>\n      <th>3</th>\n      <td>Ch3:</td>\n      <td>4343124</td>\n      <td>5027139.0</td>\n    </tr>\n    <tr>\n      <th>4</th>\n      <td>Ch4:</td>\n      <td>80</td>\n      <td>70904.0</td>\n    </tr>\n  </tbody>\n</table>\n</div>"
     },
     "metadata": {},
     "execution_count": 85
    }
   ],
   "source": [
    "dx.to_excel(\"formatet.xlsx\");\n",
    "dx.head()"
   ]
  },
  {
   "cell_type": "code",
   "execution_count": 86,
   "metadata": {},
   "outputs": [
    {
     "output_type": "execute_result",
     "data": {
      "text/plain": [
       "   channal      min        max\n",
       "0     Ch0:  4376072  6191629.0\n",
       "1     Ch1:  4379084  5293305.0\n",
       "2     Ch2:  4349189  5417217.0\n",
       "3     Ch3:  4343124  5027139.0\n",
       "4     Ch4:       80    70904.0\n",
       "..     ...      ...        ...\n",
       "95    Ch5:   251707  4337618.0\n",
       "96    Ch6:   279193   549337.0\n",
       "97    Ch7:   278318   485481.0\n",
       "98    Ch8:   278447  1085569.0\n",
       "99      V:     1549        NaN\n",
       "\n",
       "[100 rows x 3 columns]"
      ],
      "text/html": "<div>\n<style scoped>\n    .dataframe tbody tr th:only-of-type {\n        vertical-align: middle;\n    }\n\n    .dataframe tbody tr th {\n        vertical-align: top;\n    }\n\n    .dataframe thead th {\n        text-align: right;\n    }\n</style>\n<table border=\"1\" class=\"dataframe\">\n  <thead>\n    <tr style=\"text-align: right;\">\n      <th></th>\n      <th>channal</th>\n      <th>min</th>\n      <th>max</th>\n    </tr>\n  </thead>\n  <tbody>\n    <tr>\n      <th>0</th>\n      <td>Ch0:</td>\n      <td>4376072</td>\n      <td>6191629.0</td>\n    </tr>\n    <tr>\n      <th>1</th>\n      <td>Ch1:</td>\n      <td>4379084</td>\n      <td>5293305.0</td>\n    </tr>\n    <tr>\n      <th>2</th>\n      <td>Ch2:</td>\n      <td>4349189</td>\n      <td>5417217.0</td>\n    </tr>\n    <tr>\n      <th>3</th>\n      <td>Ch3:</td>\n      <td>4343124</td>\n      <td>5027139.0</td>\n    </tr>\n    <tr>\n      <th>4</th>\n      <td>Ch4:</td>\n      <td>80</td>\n      <td>70904.0</td>\n    </tr>\n    <tr>\n      <th>...</th>\n      <td>...</td>\n      <td>...</td>\n      <td>...</td>\n    </tr>\n    <tr>\n      <th>95</th>\n      <td>Ch5:</td>\n      <td>251707</td>\n      <td>4337618.0</td>\n    </tr>\n    <tr>\n      <th>96</th>\n      <td>Ch6:</td>\n      <td>279193</td>\n      <td>549337.0</td>\n    </tr>\n    <tr>\n      <th>97</th>\n      <td>Ch7:</td>\n      <td>278318</td>\n      <td>485481.0</td>\n    </tr>\n    <tr>\n      <th>98</th>\n      <td>Ch8:</td>\n      <td>278447</td>\n      <td>1085569.0</td>\n    </tr>\n    <tr>\n      <th>99</th>\n      <td>V:</td>\n      <td>1549</td>\n      <td>NaN</td>\n    </tr>\n  </tbody>\n</table>\n<p>100 rows × 3 columns</p>\n</div>"
     },
     "metadata": {},
     "execution_count": 86
    }
   ],
   "source": [
    "dx.reset_index(drop=True)"
   ]
  },
  {
   "cell_type": "code",
   "execution_count": null,
   "metadata": {},
   "outputs": [],
   "source": []
  }
 ]
}