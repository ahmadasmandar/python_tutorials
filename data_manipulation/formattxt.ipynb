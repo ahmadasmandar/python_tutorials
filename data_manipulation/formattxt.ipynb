{
 "metadata": {
  "language_info": {
   "codemirror_mode": {
    "name": "ipython",
    "version": 3
   },
   "file_extension": ".py",
   "mimetype": "text/x-python",
   "name": "python",
   "nbconvert_exporter": "python",
   "pygments_lexer": "ipython3",
   "version": "3.8.6-final"
  },
  "orig_nbformat": 2,
  "kernelspec": {
   "name": "python3",
   "display_name": "Python 3.8.6 64-bit",
   "metadata": {
    "interpreter": {
     "hash": "1baa965d5efe3ac65b79dfc60c0d706280b1da80fedb7760faf2759126c4f253"
    }
   }
  }
 },
 "nbformat": 4,
 "nbformat_minor": 2,
 "cells": [
  {
   "cell_type": "code",
   "execution_count": 1,
   "metadata": {},
   "outputs": [],
   "source": [
    "import pandas as pd\n",
    "import matplotlib.pyplot as plt\n",
    "import seaborn as sb"
   ]
  },
  {
   "source": [
    "# Data files full clean"
   ],
   "cell_type": "markdown",
   "metadata": {}
  },
  {
   "cell_type": "code",
   "execution_count": 2,
   "metadata": {
    "tags": []
   },
   "outputs": [],
   "source": [
    "import os\n",
    "import re\n",
    "if not os.path.exists('./cleandata'):\n",
    "    os.makedirs('./cleandata')\n",
    "content=os.listdir('./newdata')\n",
    "\n",
    "for item in content:\n",
    "    # delete the text files and the urls files to clean the library\n",
    "    # print(item)\n",
    "    if (item.find(\".txt\") > 0 ):\n",
    "        #print(item)\n",
    "        with open(\"./newdata/{}\".format(item),\"r\") as f:\n",
    "            lines=f.readlines()\n",
    "        #if (os.path.exists(\"./cleandata/{}\".format(item))):\n",
    "        with open(\"./cleandata/{}\".format(item),\"w+\") as f:\n",
    "             \n",
    "            for line in lines:\n",
    "                if \"10 Messungen\" in line.strip(\"\\n\"):\n",
    "                    line= line[line.find(\"Ch\"):]\n",
    "                    #print(newline)\n",
    "                # if (line.strip(\"\\n\") != \"þStartfischer1 p33-6 hf8 fc6x 0.9km\")\n",
    "                if (\"Ch\" in line.strip(\"\\n\") or \"V\" in line.strip(\"\\n\") ):\n",
    "                    f.write(line.replace(';',''))\n",
    "f.close();\n",
    "\n",
    "#print(content)"
   ]
  },
  {
   "cell_type": "code",
   "execution_count": null,
   "metadata": {},
   "outputs": [],
   "source": []
  },
  {
   "cell_type": "code",
   "execution_count": 5,
   "metadata": {},
   "outputs": [
    {
     "output_type": "stream",
     "name": "stdout",
     "text": [
      "fischer1_p33_6_hf8_fc6x_0_9km.txt\n          channal       min      max     x      y\n0  þStartfischer1     p33-6      hf8  fc6x  0.9km\n1           Ch0:;  4376072;  6191629   NaN    NaN\n2           Ch1:;  4379084;  5293305   NaN    NaN\n3           Ch2:;  4349189;  5417217   NaN    NaN\n4           Ch3:;  4343124;  5027139   NaN    NaN\nfischer1_p33_6_hf8_fc6x_4km.txt\n                 channal      min   max    x    y\nþStartfischer1     p33-6      hf8  fc6x  4.0   km\nCh0:;           4377246;  6136439   NaN  NaN  NaN\nCh1:;           4361919;  5299389   NaN  NaN  NaN\nCh2:;           4347099;  5412315   NaN  NaN  NaN\nCh3:;           4336738;  5034490   NaN  NaN  NaN\nfischer2_p33_6_hf8_fc6x.txt\n    channal       min      max     x   y\n0  fischer2     p33-6      hf8  fcx6 NaN\n1     Ch0:;  4439164;  6123800   NaN NaN\n2     Ch1:;  4436158;  5315160   NaN NaN\n3     Ch2:;  4407620;  5356954   NaN NaN\n4     Ch3:;  4410351;  5013089   NaN NaN\nfischer2_p33_6_hf8_fc6x_0_9km.txt\n                                             channal       min      max     x  \\\n0  þStart[00]ÿ[00][00][00][00][00][00][00][00][00...     p33-6      hf8  fcx6   \n1                                             þStart       NaN      NaN   NaN   \n2                                              Ch0:;  4374546;  6080874   NaN   \n3                                              Ch1:;  4377508;  5340762   NaN   \n4                                              Ch2:;  4346741;  5375178   NaN   \n\n    y  \n0 NaN  \n1 NaN  \n2 NaN  \n3 NaN  \n4 NaN  \nfischer2_p33_6_hf8_fc6x_4km.txt\n           channal      min   max    x    y\nfischer2     p33-6      hf8  fcx6  4.0   km\nCh0:;     4433955;  6042328   NaN  NaN  NaN\nCh1:;     4432469;  5269910   NaN  NaN  NaN\nCh2:;     4404755;  5332808   NaN  NaN  NaN\nCh3:;     4400764;  4990275   NaN  NaN  NaN\nfischer_p33_6_hf8_fc6x.txt\n         channal       min      max     x   y\n0  þStartfischer     p33-6      hf8  fc6x NaN\n1          Ch0:;  4379160;  6024386   NaN NaN\n2          Ch1:;  4377638;  5268408   NaN NaN\n3          Ch2:;  4350030;  5318254   NaN NaN\n4          Ch3:;  4345238;  4996561   NaN NaN\nmadshus_base7_ts_blue.txt\n          channal      min   max    x    y\nmadshus     base7       TS  blue   no  wax\nCh0:;    4370101;  5912818   NaN  NaN  NaN\nCh1:;    4382049;  5252938   NaN  NaN  NaN\nCh2:;    4350132;  5407328   NaN  NaN  NaN\nCh3:;    4333044;  5094175   NaN  NaN  NaN\nmadshus_base7_ts_blue_ clockwise 45 turn.txt\n                  channal   min  max    x           y\nmadshus base7          TS  blue   no  wax  directions\nCh0:;   4436328;  5838693   NaN  NaN  NaN         NaN\nCh1:;   4438486;  5211841   NaN  NaN  NaN         NaN\nCh2:;   4406715;  5393239   NaN  NaN  NaN         NaN\nCh3:;   4405022;  5047324   NaN  NaN  NaN         NaN\nmadshus_base7_ts_blue_point.txt\n  channal        min      max    x         y\n0       b        NaN      NaN  NaN       NaN\n1      10  Messungen      mit   3s  interval\n2   Ch1:;   4435687;  5236690  NaN       NaN\n3   Ch2:;   4408914;  5386563  NaN       NaN\n4   Ch3:;   4409267;  5066288  NaN       NaN\n"
     ]
    }
   ],
   "source": [
    "a={}\n",
    "\n",
    "for x in content:\n",
    "    print(x)\n",
    "    df=pd.read_csv(\"./newdata/{}\".format(x),names=['channal','min','max','x','y'],sep='\\s+', encoding='iso-8859-1')\n",
    "    dx=df.drop(['x', 'y'], axis=1)\n",
    "    print(df.head())\n",
    "    # dx['min']= dx['min'].map(lambda x: x.lstrip('+-;').rstrip('aAbBcC;'))\n",
    "    # dx['channal']= dx['channal'].map(lambda x: x.lstrip(';').rstrip(';'))\n",
    "    # #idx=dx.index();\n",
    "    # if 100 in dx.index:\n",
    "    #     dx=dx.drop(100);\n",
    "    # dx['min']=pd.to_numeric(dx['min'])\n",
    "    # dx['max']=pd.to_numeric(dx['max'])\n",
    "    # dx.index.name=x\n",
    "    # a[x]=dx\n",
    "    # print(a[x].head())\n",
    "    # break;\n",
    "\n",
    "\n"
   ]
  },
  {
   "cell_type": "code",
   "execution_count": null,
   "metadata": {},
   "outputs": [],
   "source": [
    "# df=pd.read_csv(\"./newdata/fischer1_p33_6_hf8_fc6x_4km.txt\",names=['channal','min','max','x','y'],sep='\\s+',engine='python',encoding='iso-8859-1',skiprows=1)\n",
    "# dx=df.drop(['x', 'y'], axis=1)\n",
    "# dx['min']= dx['min'].map(lambda x: x.lstrip('+-;').rstrip('aAbBcC;'))\n",
    "# dx['channal']= dx['channal'].map(lambda x: x.lstrip(';').rstrip(';'))\n",
    "# #dx=dx.drop(100);\n",
    "# dx['min']=pd.to_numeric(dx['min'])\n",
    "# dx['max']=pd.to_numeric(dx['max'])\n",
    "# dx.index.name=\"fischer1_p33_6_hf8_fc6x_4km\"\n",
    "# dx.to_excel(\"formatet.xlsx\");\n",
    "# dx.head(10)"
   ]
  },
  {
   "cell_type": "code",
   "execution_count": null,
   "metadata": {},
   "outputs": [],
   "source": [
    "\n"
   ]
  },
  {
   "cell_type": "code",
   "execution_count": null,
   "metadata": {},
   "outputs": [],
   "source": []
  }
 ]
}