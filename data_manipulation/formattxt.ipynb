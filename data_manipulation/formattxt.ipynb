{
 "metadata": {
  "language_info": {
   "codemirror_mode": {
    "name": "ipython",
    "version": 3
   },
   "file_extension": ".py",
   "mimetype": "text/x-python",
   "name": "python",
   "nbconvert_exporter": "python",
   "pygments_lexer": "ipython3",
   "version": "3.8.6-final"
  },
  "orig_nbformat": 2,
  "kernelspec": {
   "name": "python3",
   "display_name": "Python 3.8.6 64-bit",
   "metadata": {
    "interpreter": {
     "hash": "1baa965d5efe3ac65b79dfc60c0d706280b1da80fedb7760faf2759126c4f253"
    }
   }
  }
 },
 "nbformat": 4,
 "nbformat_minor": 2,
 "cells": [
  {
   "cell_type": "code",
   "execution_count": 5,
   "metadata": {},
   "outputs": [],
   "source": [
    "import pandas as pd\n",
    "import matplotlib.pyplot as plt\n",
    "import seaborn as sb "
   ]
  },
  {
   "source": [
    "# Data files full clean"
   ],
   "cell_type": "markdown",
   "metadata": {}
  },
  {
   "cell_type": "code",
   "execution_count": 57,
   "metadata": {
    "tags": []
   },
   "outputs": [],
   "source": [
    "import os\n",
    "import re\n",
    "#os.makedirs(\"./cleandata\");\n",
    "if not os.path.exists('./cleandata'):\n",
    "    os.makedirs('./cleandata')\n",
    "content=os.listdir('./newdata')\n",
    "\n",
    "for item in content:\n",
    "    # delete the text files and the urls files to clean the library\n",
    "    # print(item)\n",
    "    if (item.find(\".txt\") > 0 ):\n",
    "        #print(item)\n",
    "        with open(\"./newdata/{}\".format(item),\"r\") as f:\n",
    "            lines=f.readlines()\n",
    "        #if (os.path.exists(\"./cleandata/{}\".format(item))):\n",
    "        with open(\"./cleandata/{}\".format(item),\"w+\") as f:\n",
    "             \n",
    "            for line in lines:\n",
    "                if \"10 Messungen\" in line.strip(\"\\n\"):\n",
    "                    line= line[line.find(\"Ch\"):]\n",
    "                    #print(newline)\n",
    "                # if (line.strip(\"\\n\") != \"þStartfischer1 p33-6 hf8 fc6x 0.9km\")\n",
    "                if (\"Ch\" in line.strip(\"\\n\") or \"V\" in line.strip(\"\\n\") ):\n",
    "                    f.write(line.replace(';',''))\n",
    "                  \n",
    "\n",
    "#print(content)"
   ]
  },
  {
   "cell_type": "code",
   "execution_count": null,
   "metadata": {},
   "outputs": [],
   "source": [
    "f.close();"
   ]
  },
  {
   "cell_type": "code",
   "execution_count": null,
   "metadata": {},
   "outputs": [],
   "source": [
    "a={}\n",
    "\n",
    "for x in content:\n",
    "    print(x)\n",
    "    df=pd.read_csv(\"./newdata/{}\".format(x),names=['channal','min','max','x','y'],sep='\\s+',engine='python', encoding='iso-8859-1')\n",
    "    dx=df.drop(['x', 'y'], axis=1)\n",
    "    print(df.head())\n",
    "    # dx['min']= dx['min'].map(lambda x: x.lstrip('+-;').rstrip('aAbBcC;'))\n",
    "    # dx['channal']= dx['channal'].map(lambda x: x.lstrip(';').rstrip(';'))\n",
    "    # #idx=dx.index();\n",
    "    # if 100 in dx.index:\n",
    "    #     dx=dx.drop(100);\n",
    "    # dx['min']=pd.to_numeric(dx['min'])\n",
    "    # dx['max']=pd.to_numeric(dx['max'])\n",
    "    # dx.index.name=x\n",
    "    # a[x]=dx\n",
    "    # print(a[x].head())\n",
    "    # break;\n",
    "\n",
    "\n"
   ]
  },
  {
   "cell_type": "code",
   "execution_count": null,
   "metadata": {},
   "outputs": [],
   "source": [
    "# df=pd.read_csv(\"./newdata/fischer1_p33_6_hf8_fc6x_4km.txt\",names=['channal','min','max','x','y'],sep='\\s+',engine='python',encoding='iso-8859-1',skiprows=1)\n",
    "# dx=df.drop(['x', 'y'], axis=1)\n",
    "# dx['min']= dx['min'].map(lambda x: x.lstrip('+-;').rstrip('aAbBcC;'))\n",
    "# dx['channal']= dx['channal'].map(lambda x: x.lstrip(';').rstrip(';'))\n",
    "# #dx=dx.drop(100);\n",
    "# dx['min']=pd.to_numeric(dx['min'])\n",
    "# dx['max']=pd.to_numeric(dx['max'])\n",
    "# dx.index.name=\"fischer1_p33_6_hf8_fc6x_4km\"\n",
    "# dx.to_excel(\"formatet.xlsx\");\n",
    "# dx.head(10)"
   ]
  },
  {
   "cell_type": "code",
   "execution_count": null,
   "metadata": {},
   "outputs": [],
   "source": [
    "\n"
   ]
  },
  {
   "cell_type": "code",
   "execution_count": null,
   "metadata": {},
   "outputs": [],
   "source": []
  }
 ]
}