{
 "nbformat": 4,
 "nbformat_minor": 2,
 "metadata": {
  "language_info": {
   "name": "python",
   "codemirror_mode": {
    "name": "ipython",
    "version": 3
   },
   "version": "3.7.7-final"
  },
  "orig_nbformat": 2,
  "file_extension": ".py",
  "mimetype": "text/x-python",
  "name": "python",
  "npconvert_exporter": "python",
  "pygments_lexer": "ipython3",
  "version": 3,
  "kernelspec": {
   "name": "python37764bit64d8e55dfcfb41aaa3a2c6da0c101c81",
   "display_name": "Python 3.7.7 64-bit"
  }
 },
 "cells": [
  {
   "cell_type": "code",
   "execution_count": 1,
   "metadata": {},
   "outputs": [],
   "source": [
    "import pandas as pd\n",
    ""
   ]
  },
  {
   "cell_type": "code",
   "execution_count": 2,
   "metadata": {},
   "outputs": [],
   "source": [
    "file =pd.read_excel(\"bank.xls\")\n",
    "df= pd.DataFrame(file)"
   ]
  },
  {
   "cell_type": "code",
   "execution_count": 3,
   "metadata": {},
   "outputs": [
    {
     "output_type": "execute_result",
     "data": {
      "text/plain": "        Betrag (€)    Saldo (€)\ncount   147.000000   147.000000\nmean      0.906463  1257.216531\nstd     342.020941  1639.819093\nmin   -2000.000000   122.680000\n25%     -23.835000   317.025000\n50%      -9.250000   534.850000\n75%      -3.190000   912.410000\nmax    2000.000000  6172.470000",
      "text/html": "<div>\n<style scoped>\n    .dataframe tbody tr th:only-of-type {\n        vertical-align: middle;\n    }\n\n    .dataframe tbody tr th {\n        vertical-align: top;\n    }\n\n    .dataframe thead th {\n        text-align: right;\n    }\n</style>\n<table border=\"1\" class=\"dataframe\">\n  <thead>\n    <tr style=\"text-align: right;\">\n      <th></th>\n      <th>Betrag (€)</th>\n      <th>Saldo (€)</th>\n    </tr>\n  </thead>\n  <tbody>\n    <tr>\n      <th>count</th>\n      <td>147.000000</td>\n      <td>147.000000</td>\n    </tr>\n    <tr>\n      <th>mean</th>\n      <td>0.906463</td>\n      <td>1257.216531</td>\n    </tr>\n    <tr>\n      <th>std</th>\n      <td>342.020941</td>\n      <td>1639.819093</td>\n    </tr>\n    <tr>\n      <th>min</th>\n      <td>-2000.000000</td>\n      <td>122.680000</td>\n    </tr>\n    <tr>\n      <th>25%</th>\n      <td>-23.835000</td>\n      <td>317.025000</td>\n    </tr>\n    <tr>\n      <th>50%</th>\n      <td>-9.250000</td>\n      <td>534.850000</td>\n    </tr>\n    <tr>\n      <th>75%</th>\n      <td>-3.190000</td>\n      <td>912.410000</td>\n    </tr>\n    <tr>\n      <th>max</th>\n      <td>2000.000000</td>\n      <td>6172.470000</td>\n    </tr>\n  </tbody>\n</table>\n</div>"
     },
     "metadata": {},
     "execution_count": 3
    }
   ],
   "source": [
    "df.shape\n",
    "df.describe()"
   ]
  },
  {
   "cell_type": "code",
   "execution_count": 4,
   "metadata": {},
   "outputs": [
    {
     "output_type": "execute_result",
     "data": {
      "text/plain": "Buchungsdatum                                    2020-04-21 00:00:00\nWertstellung                                     2020-04-21 00:00:00\nUmsatzart                                                Lastschrift\nAuftraggeber                                          Ahmad Asmandar\nEmpfänger                                                  KLARNA AB\nBetrag (€)                                                     -6.76\nSaldo (€)                                                     516.69\nBuchungsdetails    Referenz de-XZQJNMK3TBMandat 07ab914d9a5d48e29...\nName: 0, dtype: object"
     },
     "metadata": {},
     "execution_count": 4
    }
   ],
   "source": [
    "df.iloc[0]"
   ]
  },
  {
   "cell_type": "code",
   "execution_count": 5,
   "metadata": {},
   "outputs": [
    {
     "output_type": "execute_result",
     "data": {
      "text/plain": "Empty DataFrame\nColumns: [Buchungsdatum, Wertstellung, Umsatzart, Auftraggeber, Empfänger, Betrag (€), Saldo (€), Buchungsdetails]\nIndex: []",
      "text/html": "<div>\n<style scoped>\n    .dataframe tbody tr th:only-of-type {\n        vertical-align: middle;\n    }\n\n    .dataframe tbody tr th {\n        vertical-align: top;\n    }\n\n    .dataframe thead th {\n        text-align: right;\n    }\n</style>\n<table border=\"1\" class=\"dataframe\">\n  <thead>\n    <tr style=\"text-align: right;\">\n      <th></th>\n      <th>Buchungsdatum</th>\n      <th>Wertstellung</th>\n      <th>Umsatzart</th>\n      <th>Auftraggeber</th>\n      <th>Empfänger</th>\n      <th>Betrag (€)</th>\n      <th>Saldo (€)</th>\n      <th>Buchungsdetails</th>\n    </tr>\n  </thead>\n  <tbody>\n  </tbody>\n</table>\n</div>"
     },
     "metadata": {},
     "execution_count": 5
    }
   ],
   "source": [
    "df.head(0)"
   ]
  },
  {
   "cell_type": "code",
   "execution_count": 6,
   "metadata": {},
   "outputs": [
    {
     "output_type": "stream",
     "name": "stdout",
     "text": "Buchungsdatum\nWertstellung\nUmsatzart\nAuftraggeber\nEmpfänger\nBetrag (€)\nSaldo (€)\nBuchungsdetails\n"
    }
   ],
   "source": [
    "for x in df.head(0):\n",
    "    print(x)\n",
    "colmuns_names=df.head(0)"
   ]
  },
  {
   "cell_type": "code",
   "execution_count": 10,
   "metadata": {},
   "outputs": [],
   "source": [
    "transport =df.rename(columns={\n",
    "    'Betrag (€)':'Betrag',\n",
    "    'Saldo (€)':'Saldo'\n",
    "})\n",
    "df2=pd.DataFrame(transport)"
   ]
  },
  {
   "cell_type": "code",
   "execution_count": 15,
   "metadata": {},
   "outputs": [],
   "source": [
    "df2.to_excel(\"bank2.xls\")"
   ]
  },
  {
   "cell_type": "code",
   "execution_count": null,
   "metadata": {},
   "outputs": [],
   "source": []
  }
 ]
}