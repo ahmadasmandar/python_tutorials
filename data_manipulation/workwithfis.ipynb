{
 "metadata": {
  "language_info": {
   "codemirror_mode": {
    "name": "ipython",
    "version": 3
   },
   "file_extension": ".py",
   "mimetype": "text/x-python",
   "name": "python",
   "nbconvert_exporter": "python",
   "pygments_lexer": "ipython3",
   "version": "3.8.6-final"
  },
  "orig_nbformat": 2,
  "kernelspec": {
   "name": "python3",
   "display_name": "Python 3.8.6 64-bit",
   "metadata": {
    "interpreter": {
     "hash": "1baa965d5efe3ac65b79dfc60c0d706280b1da80fedb7760faf2759126c4f253"
    }
   }
  }
 },
 "nbformat": 4,
 "nbformat_minor": 2,
 "cells": [
  {
   "cell_type": "code",
   "execution_count": 1,
   "metadata": {},
   "outputs": [],
   "source": [
    "import pandas as pd"
   ]
  },
  {
   "cell_type": "code",
   "execution_count": 41,
   "metadata": {},
   "outputs": [],
   "source": [
    "#df = pd.read_csv(\"data.csv\")\n",
    "dx=pd.read_excel(\"data.xls\")"
   ]
  },
  {
   "cell_type": "code",
   "execution_count": 42,
   "metadata": {},
   "outputs": [
    {
     "output_type": "execute_result",
     "data": {
      "text/plain": [
       "  channel      min        max\n",
       "0    Ch0:  4884049  5867512.0\n",
       "1    Ch1:  4878267  8028863.0\n",
       "2    Ch2:  4893619  5389670.0"
      ],
      "text/html": "<div>\n<style scoped>\n    .dataframe tbody tr th:only-of-type {\n        vertical-align: middle;\n    }\n\n    .dataframe tbody tr th {\n        vertical-align: top;\n    }\n\n    .dataframe thead th {\n        text-align: right;\n    }\n</style>\n<table border=\"1\" class=\"dataframe\">\n  <thead>\n    <tr style=\"text-align: right;\">\n      <th></th>\n      <th>channel</th>\n      <th>min</th>\n      <th>max</th>\n    </tr>\n  </thead>\n  <tbody>\n    <tr>\n      <th>0</th>\n      <td>Ch0:</td>\n      <td>4884049</td>\n      <td>5867512.0</td>\n    </tr>\n    <tr>\n      <th>1</th>\n      <td>Ch1:</td>\n      <td>4878267</td>\n      <td>8028863.0</td>\n    </tr>\n    <tr>\n      <th>2</th>\n      <td>Ch2:</td>\n      <td>4893619</td>\n      <td>5389670.0</td>\n    </tr>\n  </tbody>\n</table>\n</div>"
     },
     "metadata": {},
     "execution_count": 42
    }
   ],
   "source": [
    "dx.head(3)"
   ]
  },
  {
   "cell_type": "code",
   "execution_count": 53,
   "metadata": {},
   "outputs": [],
   "source": [
    "dx[\"channel\"];\n",
    "dx.channel;\n",
    "ch0=dx[dx.channel == \"Ch0:\"]\n",
    "ch1=dx[dx.channel == \"Ch1:\"]\n",
    "ch2=dx[dx.channel == \"Ch2:\"]\n",
    "ch3=dx[dx.channel == \"Ch3:\"]\n",
    "ch4=dx[dx.channel == \"Ch4:\"]\n",
    "ch5=dx[dx.channel == \"Ch5:\"]\n",
    "ch6=dx[dx.channel == \"Ch6:\"]\n",
    "ch7=dx[dx.channel == \"Ch7:\"]\n",
    "ch8=dx[dx.channel == \"Ch8:\"]\n"
   ]
  },
  {
   "cell_type": "code",
   "execution_count": 74,
   "metadata": {},
   "outputs": [
    {
     "output_type": "execute_result",
     "data": {
      "text/plain": [
       "   channel      min        max\n",
       "0     Ch0:  4884049  5867512.0\n",
       "12    Ch0:  4855838  5867234.0\n",
       "24    Ch0:  4888703  5860038.0\n",
       "36    Ch0:  4870267  5876872.0\n",
       "48    Ch0:  4873460  5847050.0"
      ],
      "text/html": "<div>\n<style scoped>\n    .dataframe tbody tr th:only-of-type {\n        vertical-align: middle;\n    }\n\n    .dataframe tbody tr th {\n        vertical-align: top;\n    }\n\n    .dataframe thead th {\n        text-align: right;\n    }\n</style>\n<table border=\"1\" class=\"dataframe\">\n  <thead>\n    <tr style=\"text-align: right;\">\n      <th></th>\n      <th>channel</th>\n      <th>min</th>\n      <th>max</th>\n    </tr>\n  </thead>\n  <tbody>\n    <tr>\n      <th>0</th>\n      <td>Ch0:</td>\n      <td>4884049</td>\n      <td>5867512.0</td>\n    </tr>\n    <tr>\n      <th>12</th>\n      <td>Ch0:</td>\n      <td>4855838</td>\n      <td>5867234.0</td>\n    </tr>\n    <tr>\n      <th>24</th>\n      <td>Ch0:</td>\n      <td>4888703</td>\n      <td>5860038.0</td>\n    </tr>\n    <tr>\n      <th>36</th>\n      <td>Ch0:</td>\n      <td>4870267</td>\n      <td>5876872.0</td>\n    </tr>\n    <tr>\n      <th>48</th>\n      <td>Ch0:</td>\n      <td>4873460</td>\n      <td>5847050.0</td>\n    </tr>\n  </tbody>\n</table>\n</div>"
     },
     "metadata": {},
     "execution_count": 74
    }
   ],
   "source": [
    "ch0.head()"
   ]
  },
  {
   "cell_type": "code",
   "execution_count": 75,
   "metadata": {},
   "outputs": [],
   "source": [
    "delta0= ch0[\"max\"] -  ch0[\"min\"]\n",
    "delta1= ch1[\"max\"] -  ch1[\"min\"]\n",
    "delta2= ch2[\"max\"] -  ch2[\"min\"]\n",
    "delta3= ch3[\"max\"] -  ch3[\"min\"]\n",
    "delta4= ch4[\"max\"] -  ch4[\"min\"]\n",
    "delta5= ch5[\"max\"] -  ch5[\"min\"]\n",
    "delta6= ch6[\"max\"] -  ch6[\"min\"]\n",
    "delta7= ch7[\"max\"] -  ch7[\"min\"]\n",
    "delta8= ch8[\"max\"] -  ch8[\"min\"]"
   ]
  },
  {
   "cell_type": "code",
   "execution_count": 76,
   "metadata": {},
   "outputs": [
    {
     "output_type": "execute_result",
     "data": {
      "text/plain": [
       "1      3.1506e+06\n",
       "13    3.12995e+06\n",
       "25    3.14751e+06\n",
       "37    3.13624e+06\n",
       "49    3.12212e+06\n",
       "dtype: object"
      ]
     },
     "metadata": {},
     "execution_count": 76
    }
   ],
   "source": [
    "delta1.head()"
   ]
  },
  {
   "cell_type": "code",
   "execution_count": null,
   "metadata": {},
   "outputs": [],
   "source": []
  }
 ]
}