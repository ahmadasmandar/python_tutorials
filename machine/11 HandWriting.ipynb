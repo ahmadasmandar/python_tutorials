{
 "cells": [
  {
   "cell_type": "markdown",
   "metadata": {},
   "source": [
    "# Imports"
   ]
  },
  {
   "cell_type": "code",
   "execution_count": 39,
   "metadata": {},
   "outputs": [],
   "source": [
    "from numpy.random import seed\n",
    "seed(888)\n",
    "from tensorflow.compat.v1 import set_random_seed\n",
    "set_random_seed(404)"
   ]
  },
  {
   "cell_type": "code",
   "execution_count": 40,
   "metadata": {},
   "outputs": [],
   "source": [
    "import os\n",
    "import numpy as np\n",
    "import tensorflow as tf\n",
    "tf.compat.v1.disable_eager_execution()"
   ]
  },
  {
   "cell_type": "markdown",
   "metadata": {},
   "source": [
    "# Constants"
   ]
  },
  {
   "cell_type": "code",
   "execution_count": 41,
   "metadata": {},
   "outputs": [],
   "source": [
    "x_train_path='handwriting/digit_xtrain.csv'\n",
    "y_train_path='handwriting/digit_ytrain.csv'\n",
    "x_test_path='handwriting/digit_xtest.csv'\n",
    "y_test_path='handwriting/digit_ytest.csv'\n",
    "nr_classes=10\n",
    "valid_size=10000\n",
    "total_inputs=28*28*1 # image height * width * channels"
   ]
  },
  {
   "cell_type": "markdown",
   "metadata": {},
   "source": [
    "# Get the Data"
   ]
  },
  {
   "cell_type": "code",
   "execution_count": 42,
   "metadata": {},
   "outputs": [
    {
     "output_type": "stream",
     "name": "stdout",
     "text": "Wall time: 18.1 s\n"
    }
   ],
   "source": [
    "%%time\n",
    "x_train_all=np.loadtxt(x_train_path, delimiter=',', dtype=int)"
   ]
  },
  {
   "cell_type": "code",
   "execution_count": 43,
   "metadata": {},
   "outputs": [
    {
     "output_type": "stream",
     "name": "stdout",
     "text": "Wall time: 3.09 s\n"
    }
   ],
   "source": [
    "%%time\n",
    "x_test=np.loadtxt(x_test_path, delimiter=',', dtype=int)\n",
    "y_train_all=np.loadtxt(y_train_path, delimiter=',', dtype=int)\n",
    "y_test=np.loadtxt(y_test_path, delimiter=',', dtype=int)"
   ]
  },
  {
   "cell_type": "markdown",
   "metadata": {},
   "source": [
    "# Preprocessing Data"
   ]
  },
  {
   "cell_type": "markdown",
   "metadata": {},
   "source": [
    "## Rescale the data to from 255 to 1.0"
   ]
  },
  {
   "cell_type": "code",
   "execution_count": 44,
   "metadata": {},
   "outputs": [],
   "source": [
    "x_train_all, x_test = x_train_all/255.0 , x_test/ 255.0"
   ]
  },
  {
   "cell_type": "markdown",
   "metadata": {},
   "source": [
    "## Convert our Y set lables to One Hot Encodeing with numpy eye()"
   ]
  },
  {
   "cell_type": "code",
   "execution_count": 45,
   "metadata": {},
   "outputs": [],
   "source": [
    "y_train_all= np.eye(nr_classes)[y_train_all]"
   ]
  },
  {
   "cell_type": "code",
   "execution_count": 46,
   "metadata": {},
   "outputs": [],
   "source": [
    "y_test=np.eye(nr_classes)[y_test]"
   ]
  },
  {
   "cell_type": "code",
   "execution_count": 47,
   "metadata": {},
   "outputs": [
    {
     "output_type": "execute_result",
     "data": {
      "text/plain": "(60000, 10)"
     },
     "metadata": {},
     "execution_count": 47
    }
   ],
   "source": [
    "y_train_all.shape"
   ]
  },
  {
   "cell_type": "markdown",
   "metadata": {},
   "source": [
    "### make validation sets from trainig datasets "
   ]
  },
  {
   "cell_type": "code",
   "execution_count": 48,
   "metadata": {},
   "outputs": [],
   "source": [
    "x_val=x_train_all[:valid_size]\n",
    "y_val=y_train_all[:valid_size]"
   ]
  },
  {
   "cell_type": "code",
   "execution_count": 49,
   "metadata": {},
   "outputs": [],
   "source": [
    "x_train=x_train_all[valid_size:]\n",
    "y_train=y_train_all[valid_size:]"
   ]
  },
  {
   "cell_type": "code",
   "execution_count": 50,
   "metadata": {},
   "outputs": [
    {
     "output_type": "execute_result",
     "data": {
      "text/plain": "(50000, 784)"
     },
     "metadata": {},
     "execution_count": 50
    }
   ],
   "source": [
    "x_train.shape"
   ]
  },
  {
   "cell_type": "code",
   "execution_count": 51,
   "metadata": {},
   "outputs": [
    {
     "output_type": "execute_result",
     "data": {
      "text/plain": "(10000, 784)"
     },
     "metadata": {},
     "execution_count": 51
    }
   ],
   "source": [
    "x_val.shape"
   ]
  },
  {
   "cell_type": "markdown",
   "metadata": {},
   "source": [
    "# Setting and Creating Tensors"
   ]
  },
  {
   "cell_type": "code",
   "execution_count": 52,
   "metadata": {},
   "outputs": [],
   "source": [
    "x=tf.compat.v1.placeholder(tf.float32, shape=(None, total_inputs))\n",
    "y=tf.compat.v1.placeholder(tf.float32, shape=(None, nr_classes))\n"
   ]
  },
  {
   "cell_type": "markdown",
   "metadata": {},
   "source": [
    "## Neural Network Architcture"
   ]
  },
  {
   "cell_type": "markdown",
   "metadata": {},
   "source": [
    "### defining our Hyperparams"
   ]
  },
  {
   "cell_type": "code",
   "execution_count": 53,
   "metadata": {},
   "outputs": [],
   "source": [
    "nr_epochs= 5\n",
    "learning_rate =1e-4\n",
    "n_hidden1=512\n",
    "n_hidden2=64"
   ]
  },
  {
   "cell_type": "markdown",
   "metadata": {},
   "source": [
    "## Initialization "
   ]
  },
  {
   "cell_type": "markdown",
   "metadata": {},
   "source": [
    "### first Layer"
   ]
  },
  {
   "cell_type": "code",
   "execution_count": 54,
   "metadata": {},
   "outputs": [],
   "source": [
    "init_w1=tf.compat.v1.truncated_normal(shape=[total_inputs, n_hidden1], stddev=0.1, seed=42)\n",
    "w1= tf.Variable(init_w1)\n",
    "init_b1=tf.constant(value=0.0, shape=[n_hidden1])\n",
    "b1=tf.Variable(init_b1)"
   ]
  },
  {
   "cell_type": "code",
   "execution_count": 55,
   "metadata": {},
   "outputs": [],
   "source": [
    "layer1_in = tf.matmul(x, w1)+ b1\n",
    "layer1_out= tf.nn.relu(layer1_in)"
   ]
  },
  {
   "cell_type": "markdown",
   "metadata": {},
   "source": [
    "### second Layer"
   ]
  },
  {
   "cell_type": "code",
   "execution_count": 56,
   "metadata": {},
   "outputs": [],
   "source": [
    "init_w2=tf.compat.v1.truncated_normal(shape=[n_hidden1, n_hidden2], stddev=0.1, seed=42)\n",
    "w2= tf.Variable(init_w2)\n",
    "init_b2=tf.constant(value=0.0, shape=[n_hidden2])\n",
    "b2=tf.Variable(init_b2)"
   ]
  },
  {
   "cell_type": "code",
   "execution_count": 57,
   "metadata": {},
   "outputs": [],
   "source": [
    "layer2_in = tf.matmul(layer1_out, w2)+ b2\n",
    "layer2_out= tf.nn.relu(layer2_in)"
   ]
  },
  {
   "cell_type": "markdown",
   "metadata": {},
   "source": [
    "### output Layer"
   ]
  },
  {
   "cell_type": "code",
   "execution_count": 58,
   "metadata": {},
   "outputs": [],
   "source": [
    "init_w3=tf.compat.v1.truncated_normal(shape=[n_hidden2, nr_classes], stddev=0.1, seed=42)\n",
    "w3= tf.Variable(init_w3)\n",
    "init_b3=tf.constant(value=0.0, shape=[nr_classes])\n",
    "b3=tf.Variable(init_b3)"
   ]
  },
  {
   "cell_type": "code",
   "execution_count": 59,
   "metadata": {},
   "outputs": [],
   "source": [
    "layer3_in = tf.matmul(layer2_out, w3)+ b3\n",
    "output= tf.nn.softmax(layer3_in)"
   ]
  },
  {
   "cell_type": "markdown",
   "metadata": {},
   "source": [
    "# Setup Loss, Optimizer, Metrics"
   ]
  },
  {
   "cell_type": "markdown",
   "metadata": {},
   "source": [
    "### Loss"
   ]
  },
  {
   "cell_type": "code",
   "execution_count": 60,
   "metadata": {},
   "outputs": [],
   "source": [
    "loss= tf.reduce_mean(tf.nn.softmax_cross_entropy_with_logits(labels=y,logits=output))"
   ]
  },
  {
   "cell_type": "markdown",
   "metadata": {},
   "source": [
    "### Optimizer"
   ]
  },
  {
   "cell_type": "code",
   "execution_count": 61,
   "metadata": {},
   "outputs": [],
   "source": [
    "optimizer=tf.compat.v1.train.AdamOptimizer(learning_rate)\n",
    "train_step=optimizer.minimize(loss)"
   ]
  },
  {
   "cell_type": "markdown",
   "metadata": {},
   "source": [
    "### Accuracy Metric"
   ]
  },
  {
   "cell_type": "code",
   "execution_count": 71,
   "metadata": {},
   "outputs": [
    {
     "output_type": "execute_result",
     "data": {
      "text/plain": "<tf.Tensor 'Mean_5:0' shape=() dtype=float32>"
     },
     "metadata": {},
     "execution_count": 71
    }
   ],
   "source": [
    "correct_pred=tf.equal(tf.argmax(output, axis=1),tf.argmax(y,axis=1))\n",
    "accuracy=tf.reduce_mean(tf.cast(correct_pred,tf.float32))\n",
    "accuracy"
   ]
  },
  {
   "cell_type": "markdown",
   "metadata": {},
   "source": [
    "# Run Session"
   ]
  },
  {
   "cell_type": "code",
   "execution_count": 63,
   "metadata": {},
   "outputs": [],
   "source": [
    "sess=tf.compat.v1.Session()"
   ]
  },
  {
   "cell_type": "code",
   "execution_count": 64,
   "metadata": {},
   "outputs": [],
   "source": [
    "# initialisation all the Variables\n",
    "init=tf.compat.v1.global_variables_initializer()\n",
    "sess.run(init)"
   ]
  },
  {
   "cell_type": "markdown",
   "metadata": {},
   "source": [
    "## Batching the Data"
   ]
  },
  {
   "cell_type": "code",
   "execution_count": 65,
   "metadata": {},
   "outputs": [],
   "source": [
    "size_of_batch=1000\n",
    "num_examples=y_train.shape[0]\n",
    "nr_iterations=int(num_examples/size_of_batch)\n",
    "index_in_epoch=0"
   ]
  },
  {
   "cell_type": "code",
   "execution_count": 66,
   "metadata": {},
   "outputs": [
    {
     "output_type": "execute_result",
     "data": {
      "text/plain": "50"
     },
     "metadata": {},
     "execution_count": 66
    }
   ],
   "source": [
    "nr_iterations"
   ]
  },
  {
   "cell_type": "markdown",
   "metadata": {},
   "source": [
    "### Build Function to help batching the Data:"
   ]
  },
  {
   "cell_type": "code",
   "execution_count": 72,
   "metadata": {},
   "outputs": [],
   "source": [
    "def next_batch(batch_size, data, labels):\n",
    "    global num_examples\n",
    "    global index_in_epoch\n",
    "    # if we reach the end of the Dataset\n",
    "    start=index_in_epoch\n",
    "    index_in_epoch += batch_size\n",
    "    if index_in_epoch > num_examples:\n",
    "        start=0\n",
    "        index_in_epoch=batch_size\n",
    "\n",
    "    end=index_in_epoch\n",
    "\n",
    "    return data[start:end] , labels[start:end]"
   ]
  },
  {
   "cell_type": "markdown",
   "metadata": {},
   "source": [
    "# Trainig Loop:"
   ]
  },
  {
   "cell_type": "code",
   "execution_count": 83,
   "metadata": {},
   "outputs": [
    {
     "output_type": "stream",
     "name": "stdout",
     "text": "Epoch 0 \t| Trainig Accuracy [0.992]\nEpoch 1 \t| Trainig Accuracy [0.992]\nEpoch 2 \t| Trainig Accuracy [0.992]\nEpoch 3 \t| Trainig Accuracy [0.992]\nEpoch 4 \t| Trainig Accuracy [0.992]\nEpoch 5 \t| Trainig Accuracy [0.992]\nEpoch 6 \t| Trainig Accuracy [0.992]\nEpoch 7 \t| Trainig Accuracy [0.992]\nEpoch 8 \t| Trainig Accuracy [0.992]\nEpoch 9 \t| Trainig Accuracy [0.992]\nEpoch 10 \t| Trainig Accuracy [0.992]\nEpoch 11 \t| Trainig Accuracy [0.992]\nEpoch 12 \t| Trainig Accuracy [0.992]\nEpoch 13 \t| Trainig Accuracy [0.992]\nEpoch 14 \t| Trainig Accuracy [0.992]\nEpoch 15 \t| Trainig Accuracy [0.992]\nEpoch 16 \t| Trainig Accuracy [0.992]\nEpoch 17 \t| Trainig Accuracy [0.992]\nEpoch 18 \t| Trainig Accuracy [0.992]\nEpoch 19 \t| Trainig Accuracy [0.992]\nEpoch 20 \t| Trainig Accuracy [0.992]\nEpoch 21 \t| Trainig Accuracy [0.992]\nEpoch 22 \t| Trainig Accuracy [0.992]\nEpoch 23 \t| Trainig Accuracy [0.992]\nEpoch 24 \t| Trainig Accuracy [0.992]\nEpoch 25 \t| Trainig Accuracy [0.992]\nEpoch 26 \t| Trainig Accuracy [0.992]\nEpoch 27 \t| Trainig Accuracy [0.992]\nEpoch 28 \t| Trainig Accuracy [0.992]\nEpoch 29 \t| Trainig Accuracy [0.992]\nEpoch 30 \t| Trainig Accuracy [0.992]\nEpoch 31 \t| Trainig Accuracy [0.992]\nEpoch 32 \t| Trainig Accuracy [0.992]\nEpoch 33 \t| Trainig Accuracy [0.992]\nEpoch 34 \t| Trainig Accuracy [0.992]\nEpoch 35 \t| Trainig Accuracy [0.992]\nEpoch 36 \t| Trainig Accuracy [0.992]\nEpoch 37 \t| Trainig Accuracy [0.992]\nEpoch 38 \t| Trainig Accuracy [0.992]\nEpoch 39 \t| Trainig Accuracy [0.992]\nEpoch 40 \t| Trainig Accuracy [0.992]\nEpoch 41 \t| Trainig Accuracy [0.992]\nEpoch 42 \t| Trainig Accuracy [0.992]\nEpoch 43 \t| Trainig Accuracy [0.992]\nEpoch 44 \t| Trainig Accuracy [0.992]\nEpoch 45 \t| Trainig Accuracy [0.992]\nEpoch 46 \t| Trainig Accuracy [0.992]\nEpoch 47 \t| Trainig Accuracy [0.992]\nEpoch 48 \t| Trainig Accuracy [0.992]\nEpoch 49 \t| Trainig Accuracy [0.992]\nTraining Done!\n"
    }
   ],
   "source": [
    "for epoch in range(50):\n",
    "    for i in range(nr_iterations):\n",
    "        batch_x, batch_y= next_batch(batch_size=size_of_batch, data=x_train, labels=y_train)\n",
    "\n",
    "        feed_dictionary= {x:batch_x, y:batch_y}\n",
    "        sess.run(train_step, feed_dict=feed_dictionary)\n",
    "        batch_accuracy=sess.run(fetches=[accuracy], feed_dict=feed_dictionary)\n",
    "    print(f'Epoch {epoch} \\t| Trainig Accuracy {batch_accuracy}')\n",
    "print(\"Training Done!\")"
   ]
  },
  {
   "cell_type": "code",
   "execution_count": null,
   "metadata": {},
   "outputs": [],
   "source": []
  }
 ],
 "metadata": {
  "language_info": {
   "codemirror_mode": {
    "name": "ipython",
    "version": 3
   },
   "file_extension": ".py",
   "mimetype": "text/x-python",
   "name": "python",
   "nbconvert_exporter": "python",
   "pygments_lexer": "ipython3",
   "version": "3.7.7-final"
  },
  "orig_nbformat": 2,
  "kernelspec": {
   "name": "python37764bit64d8e55dfcfb41aaa3a2c6da0c101c81",
   "display_name": "Python 3.7.7 64-bit"
  }
 },
 "nbformat": 4,
 "nbformat_minor": 2
}