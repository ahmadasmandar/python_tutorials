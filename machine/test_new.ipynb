{
 "cells": [
  {
   "cell_type": "code",
   "execution_count": 1,
   "metadata": {},
   "outputs": [],
   "source": [
    "from os import scandir\n",
    "from os import path\n",
    "import os\n",
    "import shutil\n",
    "\n"
   ]
  },
  {
   "cell_type": "code",
   "execution_count": 2,
   "metadata": {},
   "outputs": [],
   "source": [
    "\"\"\"\n",
    "search for images in the dirctories and move it to images folder\n",
    "\"\"\"\n",
    "def sort_images():\n",
    "    dirs= os.listdir()\n",
    "    for dir in dirs:\n",
    "        if os.path.isfile(dir):\n",
    "            if (dir.endswith(\"jpg\") or dir.endswith(\"webp\")):\n",
    "                shutil.move(dir,'images/')"
   ]
  },
  {
   "cell_type": "code",
   "execution_count": 3,
   "metadata": {},
   "outputs": [
    {
     "output_type": "execute_result",
     "data": {
      "text/plain": "'images/dogs/n02085620-Chihuahua'"
     },
     "metadata": {},
     "execution_count": 3
    }
   ],
   "source": [
    "base_path='images/dogs/'\n",
    "dirs=os.listdir(base_path)\n",
    "images_dogs=[]\n",
    "folder_pathes=[]\n",
    "for check in dirs:\n",
    "    folder_pathes.append(os.path.join(base_path,check))\n",
    "    images_dogs.append(os.listdir(os.path.join(base_path,check)))\n",
    "folder_pathes[0]"
   ]
  },
  {
   "cell_type": "code",
   "execution_count": 4,
   "metadata": {},
   "outputs": [
    {
     "output_type": "execute_result",
     "data": {
      "text/plain": "'images/dogs/n02085620-Chihuahua\\\\n02085620_10074.jpg'"
     },
     "metadata": {},
     "execution_count": 4
    }
   ],
   "source": [
    "os.path.join(folder_pathes[0],images_dogs[0][0])"
   ]
  },
  {
   "cell_type": "code",
   "execution_count": null,
   "metadata": {},
   "outputs": [],
   "source": []
  }
 ],
 "metadata": {
  "language_info": {
   "codemirror_mode": {
    "name": "ipython",
    "version": 3
   },
   "file_extension": ".py",
   "mimetype": "text/x-python",
   "name": "python",
   "nbconvert_exporter": "python",
   "pygments_lexer": "ipython3",
   "version": "3.7.7-final"
  },
  "orig_nbformat": 2,
  "kernelspec": {
   "name": "python37764bit64d8e55dfcfb41aaa3a2c6da0c101c81",
   "display_name": "Python 3.7.7 64-bit"
  }
 },
 "nbformat": 4,
 "nbformat_minor": 2
}