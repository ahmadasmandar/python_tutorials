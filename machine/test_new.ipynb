{
 "cells": [
  {
   "cell_type": "code",
   "execution_count": 117,
   "metadata": {},
   "outputs": [],
   "source": [
    "from os import scandir\n",
    "from os import path\n",
    "import os\n",
    "import shutil\n",
    "from IPython.display import display\n",
    "from keras.preprocessing.image import load_img,img_to_array,array_to_img\n",
    "import numpy as np\n",
    "from tensorflow.keras.datasets import cifar10\n",
    "\n"
   ]
  },
  {
   "cell_type": "code",
   "execution_count": null,
   "metadata": {},
   "outputs": [],
   "source": [
    "LABEL_NAMES = ['Plane', 'Car', 'Bird', 'Cat', 'Deer', 'Dog', 'Frog', 'Horse', 'Ship', 'Truck']\n",
    "NR_CLASSES = 10\n",
    "image_width= 32\n",
    "image_height= 32\n",
    "image_pixels= image_height*image_width\n",
    "color_channels=3\n",
    "total_inputs=image_pixels*color_channels\n",
    "\n",
    "valid_size=40000\n",
    "xs_size=1000\n",
    "\n",
    "LOG_DIR='logs/'"
   ]
  },
  {
   "cell_type": "code",
   "execution_count": null,
   "metadata": {},
   "outputs": [],
   "source": [
    "\"\"\"\n",
    "search for images in the dirctories and move it to images folder\n",
    "\"\"\"\n",
    "def sort_images():\n",
    "    dirs= os.listdir()\n",
    "    for dir in dirs:\n",
    "        if os.path.isfile(dir):\n",
    "            if (dir.endswith(\"jpg\") or dir.endswith(\"webp\")):\n",
    "                shutil.move(dir,'images/')"
   ]
  },
  {
   "cell_type": "code",
   "execution_count": null,
   "metadata": {},
   "outputs": [],
   "source": [
    "base_path='images/dogs/'\n",
    "dirs=os.listdir(base_path)\n",
    "images_dogs=[]\n",
    "folder_pathes=[]\n",
    "for check in dirs:\n",
    "    folder_pathes.append(os.path.join(base_path,check))\n",
    "    images_dogs.append(os.listdir(os.path.join(base_path,check)))\n",
    "folder_pathes[0]"
   ]
  },
  {
   "cell_type": "code",
   "execution_count": null,
   "metadata": {},
   "outputs": [],
   "source": [
    "os.path.join(folder_pathes[0],images_dogs[0][0])\n",
    "len(folder_pathes)\n",
    "len(images_dogs)"
   ]
  },
  {
   "cell_type": "code",
   "execution_count": null,
   "metadata": {},
   "outputs": [],
   "source": [
    "images_path=[]\n",
    "for f_indx in range(len(folder_pathes)):\n",
    "    for im_indx in range(len(images_dogs)):\n",
    "        path_to_image=os.path.join(folder_pathes[f_indx],images_dogs[f_indx][im_indx])\n",
    "        images_path.append(path_to_image)\n",
    "    "
   ]
  },
  {
   "cell_type": "code",
   "execution_count": null,
   "metadata": {},
   "outputs": [],
   "source": [
    "images_path[0]"
   ]
  },
  {
   "cell_type": "code",
   "execution_count": null,
   "metadata": {},
   "outputs": [],
   "source": [
    "images_path;"
   ]
  },
  {
   "cell_type": "code",
   "execution_count": null,
   "metadata": {},
   "outputs": [],
   "source": [
    "display(load_img(images_path[0]))"
   ]
  },
  {
   "cell_type": "code",
   "execution_count": null,
   "metadata": {},
   "outputs": [],
   "source": [
    "with open('image_pathes.log', 'w') as img_file:\n",
    "    for indx in range(len(images_path)): \n",
    "        img_file.write(images_path[indx]+'\\n')"
   ]
  },
  {
   "cell_type": "code",
   "execution_count": 89,
   "metadata": {},
   "outputs": [],
   "source": [
    "image_reader=[]\n",
    "with open('image_pathes.log', 'r') as img_reader:\n",
    "    for line in img_reader.readlines(): \n",
    "        image_reader.append(line.strip())"
   ]
  },
  {
   "cell_type": "code",
   "execution_count": null,
   "metadata": {},
   "outputs": [],
   "source": [
    "image_xs=image_reader[:100]\n",
    "(x_train, y_train), (x_test, y_test)=cifar10.load_data()"
   ]
  },
  {
   "cell_type": "code",
   "execution_count": null,
   "metadata": {},
   "outputs": [],
   "source": [
    "x_train, x_test= x_train/255.0 , x_test/255.0\n",
    "x_train=x_train.reshape(len(x_train), total_inputs)\n",
    "x_test=x_test.reshape(len(x_test), total_inputs)"
   ]
  },
  {
   "cell_type": "code",
   "execution_count": 111,
   "metadata": {},
   "outputs": [
    {
     "output_type": "execute_result",
     "data": {
      "text/plain": "(10000, 1)"
     },
     "metadata": {},
     "execution_count": 111
    }
   ],
   "source": [
    "y_test.shape"
   ]
  },
  {
   "cell_type": "code",
   "execution_count": 114,
   "metadata": {},
   "outputs": [
    {
     "output_type": "stream",
     "name": "stdout",
     "text": "Wall time: 13 s\n"
    }
   ],
   "source": [
    "%%time\n",
    "x_train_new_2=[]\n",
    "y_labels=[]\n",
    "\n",
    "for imag_in_list in image_reader:\n",
    "        img_t=load_img(imag_in_list, target_size=(32,32))\n",
    "        im_arr_t=img_to_array(img_t)\n",
    "        x_train_new_2.append(im_arr_t)\n",
    "        y_labels.append(5)\n",
    "x_train_new_2=np.array(x_train_new_2).reshape(len(x_train_new_2), total_inputs)\n",
    "y_labels=np.array(y_labels).reshape(len(y_labels))\n",
    "y_labels=np.expand_dims(y_labels,axis=1)\n",
    "x_new=np.append(x_train,x_train_new_2,axis=0)\n",
    "y_new=np.append(y_train,y_labels,axis=0)"
   ]
  },
  {
   "cell_type": "code",
   "execution_count": 132,
   "metadata": {},
   "outputs": [
    {
     "output_type": "execute_result",
     "data": {
      "text/plain": "(64400, 1)"
     },
     "metadata": {},
     "execution_count": 132
    }
   ],
   "source": [
    "y_new.shape\n"
   ]
  },
  {
   "cell_type": "code",
   "execution_count": 93,
   "metadata": {},
   "outputs": [],
   "source": [
    "from tempfile import TemporaryFile\n",
    "outfile = TemporaryFile()"
   ]
  },
  {
   "cell_type": "code",
   "execution_count": 99,
   "metadata": {},
   "outputs": [],
   "source": [
    "dogs_train_voll=x_new"
   ]
  },
  {
   "cell_type": "code",
   "execution_count": 133,
   "metadata": {},
   "outputs": [],
   "source": [
    "with open('dogsadded.npy', 'wb') as f:\n",
    "    np.save(f, x_new)"
   ]
  },
  {
   "cell_type": "code",
   "execution_count": 134,
   "metadata": {},
   "outputs": [],
   "source": [
    "with open('dogslabeladded.npy', 'wb') as f:\n",
    "    np.save(f, y_new)"
   ]
  },
  {
   "cell_type": "code",
   "execution_count": 135,
   "metadata": {},
   "outputs": [],
   "source": [
    "with open('dogslabeladded.npy', 'rb') as fr:\n",
    "    labels = np.load(fr,allow_pickle=True)"
   ]
  },
  {
   "cell_type": "code",
   "execution_count": 136,
   "metadata": {},
   "outputs": [
    {
     "output_type": "execute_result",
     "data": {
      "text/plain": "(64400, 1)"
     },
     "metadata": {},
     "execution_count": 136
    }
   ],
   "source": [
    "labels.shape"
   ]
  },
  {
   "cell_type": "code",
   "execution_count": null,
   "metadata": {},
   "outputs": [],
   "source": []
  }
 ],
 "metadata": {
  "language_info": {
   "codemirror_mode": {
    "name": "ipython",
    "version": 3
   },
   "file_extension": ".py",
   "mimetype": "text/x-python",
   "name": "python",
   "nbconvert_exporter": "python",
   "pygments_lexer": "ipython3",
   "version": "3.7.7-final"
  },
  "orig_nbformat": 2,
  "kernelspec": {
   "name": "python37764bit64d8e55dfcfb41aaa3a2c6da0c101c81",
   "display_name": "Python 3.7.7 64-bit"
  }
 },
 "nbformat": 4,
 "nbformat_minor": 2
}